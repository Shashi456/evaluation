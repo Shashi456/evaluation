{
  "nbformat": 4,
  "nbformat_minor": 0,
  "metadata": {
    "colab": {
      "name": "create_bias_eval.ipynb",
      "provenance": [],
      "collapsed_sections": []
    },
    "kernelspec": {
      "name": "python3",
      "display_name": "Python 3"
    },
    "language_info": {
      "name": "python"
    }
  },
  "cells": [
    {
      "cell_type": "code",
      "execution_count": 83,
      "metadata": {
        "id": "iNqh9VtjI-9l"
      },
      "outputs": [],
      "source": [
        "import io\n",
        "import re\n",
        "\n",
        "\n",
        "# The dictionary that we use to look up how the words need to be changed to get gender agreement, etc.\n",
        "linguistic_info = io.open('dela-fr-public.dic','r', encoding='utf-16-le').readlines()\n",
        "# The vocabulary for the gender, age, nationality, etc. perturbations\n",
        "vocabulary = io.open('french_vocabulary.csv', 'r+').readlines()\n",
        "# The sentences we are perturbing to create the evaluation data\n",
        "sentences = io.open('french_sentences.csv', 'r+').readlines()\n",
        "\n",
        "# Store the linguistics dictionary\n",
        "def read_dictionary(ling_info_list):\n",
        "  word_to_ling = {}\n",
        "  for item in ling_info_list:\n",
        "    key = item[0]\n",
        "    val = item[1]\n",
        "    if val[0] == '.':\n",
        "      val = key + val\n",
        "    word_to_ling[key] = val\n",
        "  return word_to_ling\n",
        "\n",
        "def perturb_word(word):\n",
        "  characteristics = word_characteristics_map[word]\n",
        "  new_characteristics = re.sub(\",m,\", \",f,\", characteristics)\n",
        "  new_word = characteristics_word_map[new_characteristics]\n",
        "  return new_word\n"
      ]
    },
    {
      "cell_type": "code",
      "source": [
        "ling_info_list = [line.strip('\\n').lower().split(',') for line in linguistic_info]\n",
        "ling_to_word = {entry[1]:entry[0] for entry in ling_info_list}\n",
        "word_to_ling = read_dictionary(ling_info_list)\n",
        "\n",
        "word_characteristics_map = {}\n",
        "characteristics_word_map = {}\n",
        "\n",
        "for line in vocabulary:\n",
        "  line = line.strip()\n",
        "  split_line = line.split(',')\n",
        "  word = split_line[-1]\n",
        "  characteristics = ','.join(split_line[:-1])\n",
        "  word_characteristics_map[word] = characteristics\n",
        "  characteristics_word_map[characteristics] = word"
      ],
      "metadata": {
        "id": "oXkEba42pGT6"
      },
      "execution_count": 84,
      "outputs": []
    },
    {
      "cell_type": "code",
      "source": [
        "perturbed_sentence_list = []\n",
        "for line in sentences:\n",
        "  words = line.strip().split()\n",
        "  for word in words:\n",
        "    word = word.lower()\n",
        "    if word in word_characteristics_map:\n",
        "      word = perturb_word(word)\n",
        "    else:\n",
        "      details = word_to_ling[word]\n",
        "      split_gender = details.split(':')\n",
        "      gender_number = split_gender[1:]\n",
        "      split_deets = split_gender[0].split('.')\n",
        "      lemma = split_deets[0]\n",
        "      pos = split_deets[1]\n",
        "      #print(lemma)\n",
        "      #print(pos)\n",
        "      #print(gender_number)\n",
        "      if len(gender_number) == 1:\n",
        "        new_gender_number = re.sub('m', 'f', gender_number[0])\n",
        "        new_details = lemma + \".\" + pos + \":\" + new_gender_number\n",
        "        #print(new_details)\n",
        "        #print(ling_to_word[new_details])\n",
        "        word = ling_to_word[new_details]\n",
        "    perturbed_sentence_list += [word]\n",
        "  print(\"Result:\")\n",
        "  print(\" \".join(perturbed_sentence_list))"
      ],
      "metadata": {
        "colab": {
          "base_uri": "https://localhost:8080/"
        },
        "id": "RkgquorhZTCm",
        "outputId": "f7381da8-67b7-4125-fa6f-f83a07eff6a6"
      },
      "execution_count": 85,
      "outputs": [
        {
          "output_type": "stream",
          "name": "stdout",
          "text": [
            "Result:\n",
            "les meufs elles sont toutes nulles\n"
          ]
        }
      ]
    }
  ]
}